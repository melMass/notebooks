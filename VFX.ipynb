!apt remove cmake
!pip install cmake --upgrade
