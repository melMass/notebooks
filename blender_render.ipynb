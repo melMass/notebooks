{
  "nbformat": 4,
  "nbformat_minor": 0,
  "metadata": {
    "colab": {
      "name": "blender_render.ipynb",
      "provenance": [],
      "collapsed_sections": [
        "_xSA9LQ8Jr2i",
        "imoxBKbzr5aT",
        "QVbKY78xs5wy",
        "So-WYiN8stGj",
        "FnBDoT6JJ6nr",
        "if7yY1sYKO9y"
      ],
      "toc_visible": true,
      "mount_file_id": "1ykUtwn59dcNp4Gt4Dj-Ju53Ly_SDwvyd",
      "authorship_tag": "ABX9TyP5gelpb2AMj+vPvdPCuZa2",
      "include_colab_link": true
    },
    "kernelspec": {
      "name": "python3",
      "display_name": "Python 3"
    },
    "language_info": {
      "name": "python"
    },
    "accelerator": "GPU",
    "widgets": {
      "application/vnd.jupyter.widget-state+json": {
        "9377ce15270e475eacdf94c27f5635af": {
          "model_module": "@jupyter-widgets/controls",
          "model_name": "DropdownModel",
          "state": {
            "_options_labels": [
              "blender-2.83.17-candidate+v283.86ff78ca0911-linux.x86_64-release.tar.xz",
              "blender-2.83.17-candidate+v283.86ff78ca0911-linux.x86_64-release.tar.xz",
              "blender-2.93.3-candidate+v293.fb7510087fdf-linux.x86_64-release.tar.xz",
              "blender-2.93.3-candidate+v293.fb7510087fdf-linux.x86_64-release.tar.xz",
              "blender-3.0.0-alpha+master.171433e84137-linux.x86_64-release.tar.xz",
              "blender-3.0.0-alpha+master.171433e84137-linux.x86_64-release.tar.xz"
            ],
            "_view_name": "DropdownView",
            "style": "IPY_MODEL_21020d4ca5f8478bb5fab701bc1f47db",
            "_dom_classes": [],
            "description": "",
            "_model_name": "DropdownModel",
            "index": 4,
            "_view_module": "@jupyter-widgets/controls",
            "_model_module_version": "1.5.0",
            "_view_count": null,
            "disabled": false,
            "_view_module_version": "1.5.0",
            "description_tooltip": null,
            "_model_module": "@jupyter-widgets/controls",
            "layout": "IPY_MODEL_1ddd753ef64d462f984ba7188b4ba36c"
          }
        },
        "21020d4ca5f8478bb5fab701bc1f47db": {
          "model_module": "@jupyter-widgets/controls",
          "model_name": "DescriptionStyleModel",
          "state": {
            "_view_name": "StyleView",
            "_model_name": "DescriptionStyleModel",
            "description_width": "",
            "_view_module": "@jupyter-widgets/base",
            "_model_module_version": "1.5.0",
            "_view_count": null,
            "_view_module_version": "1.2.0",
            "_model_module": "@jupyter-widgets/controls"
          }
        },
        "1ddd753ef64d462f984ba7188b4ba36c": {
          "model_module": "@jupyter-widgets/base",
          "model_name": "LayoutModel",
          "state": {
            "_view_name": "LayoutView",
            "grid_template_rows": null,
            "right": null,
            "justify_content": null,
            "_view_module": "@jupyter-widgets/base",
            "overflow": null,
            "_model_module_version": "1.2.0",
            "_view_count": null,
            "flex_flow": null,
            "width": null,
            "min_width": null,
            "border": null,
            "align_items": null,
            "bottom": null,
            "_model_module": "@jupyter-widgets/base",
            "top": null,
            "grid_column": null,
            "overflow_y": null,
            "overflow_x": null,
            "grid_auto_flow": null,
            "grid_area": null,
            "grid_template_columns": null,
            "flex": null,
            "_model_name": "LayoutModel",
            "justify_items": null,
            "grid_row": null,
            "max_height": null,
            "align_content": null,
            "visibility": null,
            "align_self": null,
            "height": null,
            "min_height": null,
            "padding": null,
            "grid_auto_rows": null,
            "grid_gap": null,
            "max_width": null,
            "order": null,
            "_view_module_version": "1.2.0",
            "grid_template_areas": null,
            "object_position": null,
            "object_fit": null,
            "grid_auto_columns": null,
            "margin": null,
            "display": null,
            "left": null
          }
        }
      }
    }
  },
  "cells": [
    {
      "cell_type": "markdown",
      "metadata": {
        "id": "view-in-github",
        "colab_type": "text"
      },
      "source": [
        "<a href=\"https://colab.research.google.com/github/melMass/notebooks/blob/main/blender_render.ipynb\" target=\"_parent\"><img src=\"https://colab.research.google.com/assets/colab-badge.svg\" alt=\"Open In Colab\"/></a>"
      ]
    },
    {
      "cell_type": "markdown",
      "metadata": {
        "id": "PcNA6U0FMbrl"
      },
      "source": [
        "# Blender GPU Rendering\n",
        "\n",
        "![blender_banner](https://code.blender.org/wp-content/uploads/2018/11/blender_beta_blog_banner.png)"
      ]
    },
    {
      "cell_type": "markdown",
      "metadata": {
        "id": "_xSA9LQ8Jr2i"
      },
      "source": [
        "## Download Blender"
      ]
    },
    {
      "cell_type": "code",
      "metadata": {
        "colab": {
          "base_uri": "https://localhost:8080/",
          "height": 49,
          "referenced_widgets": [
            "9377ce15270e475eacdf94c27f5635af",
            "21020d4ca5f8478bb5fab701bc1f47db",
            "1ddd753ef64d462f984ba7188b4ba36c"
          ]
        },
        "cellView": "form",
        "id": "3J6A3D5ijqK1",
        "outputId": "14b20e85-366c-47fa-e480-01fbfad0b4d3"
      },
      "source": [
        "#@title Select the blender version to download (run the cell first):\n",
        "import requests\n",
        "import ipywidgets as widgets\n",
        "from bs4 import BeautifulSoup\n",
        "url = \"https://builder.blender.org/download/\"\n",
        "req = requests.get(url)\n",
        "soup = BeautifulSoup(req.text, \"lxml\")\n",
        "\n",
        "links = []\n",
        "for link in soup.findAll('a'):\n",
        "    l = link.get('href')\n",
        "    if l.endswith(\".tar.xz\"):\n",
        "      links.append(l)\n",
        "\n",
        "link_names = [Path(x).name for x in links]\n",
        "version_picker = widgets.Dropdown(options=link_names, value=link_names[-1])\n",
        "version_picker"
      ],
      "execution_count": 42,
      "outputs": [
        {
          "output_type": "display_data",
          "data": {
            "application/vnd.jupyter.widget-view+json": {
              "model_id": "9377ce15270e475eacdf94c27f5635af",
              "version_minor": 0,
              "version_major": 2
            },
            "text/plain": [
              "Dropdown(index=4, options=('blender-2.83.17-candidate+v283.86ff78ca0911-linux.x86_64-release.tar.xz', 'blender…"
            ]
          },
          "metadata": {
            "tags": []
          }
        }
      ]
    },
    {
      "cell_type": "markdown",
      "metadata": {
        "id": "imoxBKbzr5aT"
      },
      "source": [
        "### Start the download"
      ]
    },
    {
      "cell_type": "code",
      "metadata": {
        "id": "-avio3CpJnL4"
      },
      "source": [
        "from pathlib import Path\n",
        "import os\n",
        "\n",
        "blender_tar = version_picker.value\n",
        "blender_url = links[link_names.index(blender_tar)]\n",
        "\n",
        "# Download & Extract\n",
        "!wget -c {blender_url}\n",
        "!ls\n",
        "!tar xf {blender_tar}\n"
      ],
      "execution_count": null,
      "outputs": []
    },
    {
      "cell_type": "markdown",
      "metadata": {
        "id": "QVbKY78xs5wy"
      },
      "source": [
        "### Set some paths"
      ]
    },
    {
      "cell_type": "code",
      "metadata": {
        "id": "WYuD19Pss7vz"
      },
      "source": [
        "# Add to path\n",
        "blender_root = Path(\"/content/\" + blender_tar.replace(\".tar.xz\",\"\")) \n",
        "os.environ[\"PATH\"] += \":\" + str(blender_root)\n",
        "blender_bin = blender_root / \"blender\"\n",
        "\n",
        "# Needed for some strange reason\n",
        "!apt install libtcmalloc-minimal4\n",
        "os.environ[\"LD_PRELOAD\"] = \"/usr/lib/x86_64-linux-gnu/libtcmalloc_minimal.so.4.3.0\"\n",
        "blender = \"blender -b -noaudio\""
      ],
      "execution_count": null,
      "outputs": []
    },
    {
      "cell_type": "markdown",
      "metadata": {
        "id": "So-WYiN8stGj"
      },
      "source": [
        "### Interactive Session"
      ]
    },
    {
      "cell_type": "code",
      "metadata": {
        "id": "cOsFSa2Oswar"
      },
      "source": [
        "!{blender} --python-console"
      ],
      "execution_count": null,
      "outputs": []
    },
    {
      "cell_type": "markdown",
      "metadata": {
        "id": "FnBDoT6JJ6nr"
      },
      "source": [
        "## Settings\n",
        "\n",
        "Edit this section with the informations for your render."
      ]
    },
    {
      "cell_type": "code",
      "metadata": {
        "id": "Xw2MWDzzJxvd"
      },
      "source": [
        "#Set Paths to Blender Files\n",
        "filename = '/gdrive/MyDrive/CyclesXTest/classroom/classroom.blend'"
      ],
      "execution_count": null,
      "outputs": []
    },
    {
      "cell_type": "markdown",
      "metadata": {
        "id": "if7yY1sYKO9y"
      },
      "source": [
        "## Render"
      ]
    },
    {
      "cell_type": "code",
      "metadata": {
        "id": "yUnlJTjyKM9P"
      },
      "source": [
        "#Render a Still Frame\n",
        "!{blender} -b $filename -noaudio -E 'CYCLES' -o '/gdrive/MyDrive/classroom_b2.png' -f 1 -F 'PNG' -- --cycles-device OPTIX\n",
        "\n",
        "#Render an Animation\n",
        "!{blender} -b $filename -noaudio -E 'CYCLES' -o '/gdrive/MyDrive/image_####' -s 8 -e 250 -a -- --cycles-device OPTIX"
      ],
      "execution_count": null,
      "outputs": []
    }
  ]
}